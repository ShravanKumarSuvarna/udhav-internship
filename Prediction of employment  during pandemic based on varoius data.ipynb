{
 "cells": [
  {
   "cell_type": "code",
   "execution_count": 82,
   "id": "c1b2f72f-77de-4cbd-992b-434ef12af6c2",
   "metadata": {},
   "outputs": [],
   "source": [
    "import numpy as np\n",
    "import matplotlib.pyplot as plt\n",
    "import pandas as pd"
   ]
  },
  {
   "cell_type": "code",
   "execution_count": 83,
   "id": "c03e2d3e-c152-4da2-b0aa-d900e1a90288",
   "metadata": {},
   "outputs": [],
   "source": [
    "data=pd.read_csv('main1.csv')"
   ]
  },
  {
   "cell_type": "code",
   "execution_count": 84,
   "id": "9ca64b9c-333b-4f13-a015-20c68c5cb4ac",
   "metadata": {},
   "outputs": [
    {
     "data": {
      "text/html": [
       "<div>\n",
       "<style scoped>\n",
       "    .dataframe tbody tr th:only-of-type {\n",
       "        vertical-align: middle;\n",
       "    }\n",
       "\n",
       "    .dataframe tbody tr th {\n",
       "        vertical-align: top;\n",
       "    }\n",
       "\n",
       "    .dataframe thead th {\n",
       "        text-align: right;\n",
       "    }\n",
       "</style>\n",
       "<table border=\"1\" class=\"dataframe\">\n",
       "  <thead>\n",
       "    <tr style=\"text-align: right;\">\n",
       "      <th></th>\n",
       "      <th>Gender</th>\n",
       "      <th>Qualification</th>\n",
       "      <th>Passout</th>\n",
       "      <th>Origin</th>\n",
       "      <th>Experience</th>\n",
       "      <th>Company_type</th>\n",
       "      <th>Status</th>\n",
       "    </tr>\n",
       "  </thead>\n",
       "  <tbody>\n",
       "    <tr>\n",
       "      <th>0</th>\n",
       "      <td>Male</td>\n",
       "      <td>Bachelor Degree</td>\n",
       "      <td>2007</td>\n",
       "      <td>Urban</td>\n",
       "      <td>9</td>\n",
       "      <td>Private limited company</td>\n",
       "      <td>Employed</td>\n",
       "    </tr>\n",
       "    <tr>\n",
       "      <th>1</th>\n",
       "      <td>Male</td>\n",
       "      <td>Diploma</td>\n",
       "      <td>2010</td>\n",
       "      <td>Urban</td>\n",
       "      <td>9</td>\n",
       "      <td>Private limited company</td>\n",
       "      <td>Employed</td>\n",
       "    </tr>\n",
       "    <tr>\n",
       "      <th>2</th>\n",
       "      <td>Male</td>\n",
       "      <td>Diploma</td>\n",
       "      <td>2014</td>\n",
       "      <td>Urban</td>\n",
       "      <td>5</td>\n",
       "      <td>Private limited company</td>\n",
       "      <td>Employed</td>\n",
       "    </tr>\n",
       "    <tr>\n",
       "      <th>3</th>\n",
       "      <td>Male</td>\n",
       "      <td>PUC</td>\n",
       "      <td>2014</td>\n",
       "      <td>Remote</td>\n",
       "      <td>1</td>\n",
       "      <td>Private limited company</td>\n",
       "      <td>Employed</td>\n",
       "    </tr>\n",
       "    <tr>\n",
       "      <th>4</th>\n",
       "      <td>Male</td>\n",
       "      <td>Bachelor Degree</td>\n",
       "      <td>2017</td>\n",
       "      <td>Urban</td>\n",
       "      <td>3</td>\n",
       "      <td>Private limited company</td>\n",
       "      <td>Employed</td>\n",
       "    </tr>\n",
       "    <tr>\n",
       "      <th>...</th>\n",
       "      <td>...</td>\n",
       "      <td>...</td>\n",
       "      <td>...</td>\n",
       "      <td>...</td>\n",
       "      <td>...</td>\n",
       "      <td>...</td>\n",
       "      <td>...</td>\n",
       "    </tr>\n",
       "    <tr>\n",
       "      <th>496</th>\n",
       "      <td>Female</td>\n",
       "      <td>PG</td>\n",
       "      <td>2020</td>\n",
       "      <td>Rural</td>\n",
       "      <td>1</td>\n",
       "      <td>Not yet working</td>\n",
       "      <td>Unemployed</td>\n",
       "    </tr>\n",
       "    <tr>\n",
       "      <th>497</th>\n",
       "      <td>Female</td>\n",
       "      <td>PG</td>\n",
       "      <td>2020</td>\n",
       "      <td>Semi urban</td>\n",
       "      <td>1</td>\n",
       "      <td>Not yet working</td>\n",
       "      <td>Unemployed</td>\n",
       "    </tr>\n",
       "    <tr>\n",
       "      <th>498</th>\n",
       "      <td>Female</td>\n",
       "      <td>Diploma</td>\n",
       "      <td>2021</td>\n",
       "      <td>Semi urban</td>\n",
       "      <td>1</td>\n",
       "      <td>Not yet working</td>\n",
       "      <td>Unemployed</td>\n",
       "    </tr>\n",
       "    <tr>\n",
       "      <th>499</th>\n",
       "      <td>Female</td>\n",
       "      <td>Diploma</td>\n",
       "      <td>2021</td>\n",
       "      <td>Semi urban</td>\n",
       "      <td>1</td>\n",
       "      <td>Private limited company</td>\n",
       "      <td>Unemployed</td>\n",
       "    </tr>\n",
       "    <tr>\n",
       "      <th>500</th>\n",
       "      <td>Female</td>\n",
       "      <td>Phd</td>\n",
       "      <td>2021</td>\n",
       "      <td>Semi urban</td>\n",
       "      <td>1</td>\n",
       "      <td>International company</td>\n",
       "      <td>Unemployed</td>\n",
       "    </tr>\n",
       "  </tbody>\n",
       "</table>\n",
       "<p>501 rows × 7 columns</p>\n",
       "</div>"
      ],
      "text/plain": [
       "     Gender    Qualification  Passout      Origin  Experience  \\\n",
       "0      Male  Bachelor Degree     2007       Urban           9   \n",
       "1      Male          Diploma     2010       Urban           9   \n",
       "2      Male          Diploma     2014       Urban           5   \n",
       "3      Male              PUC     2014      Remote           1   \n",
       "4      Male  Bachelor Degree     2017       Urban           3   \n",
       "..      ...              ...      ...         ...         ...   \n",
       "496  Female               PG     2020       Rural           1   \n",
       "497  Female               PG     2020  Semi urban           1   \n",
       "498  Female          Diploma     2021  Semi urban           1   \n",
       "499  Female          Diploma     2021  Semi urban           1   \n",
       "500  Female              Phd     2021  Semi urban           1   \n",
       "\n",
       "                Company_type      Status  \n",
       "0    Private limited company    Employed  \n",
       "1    Private limited company    Employed  \n",
       "2    Private limited company    Employed  \n",
       "3    Private limited company    Employed  \n",
       "4    Private limited company    Employed  \n",
       "..                       ...         ...  \n",
       "496          Not yet working  Unemployed  \n",
       "497          Not yet working  Unemployed  \n",
       "498          Not yet working  Unemployed  \n",
       "499  Private limited company  Unemployed  \n",
       "500    International company  Unemployed  \n",
       "\n",
       "[501 rows x 7 columns]"
      ]
     },
     "execution_count": 84,
     "metadata": {},
     "output_type": "execute_result"
    }
   ],
   "source": [
    "data"
   ]
  },
  {
   "cell_type": "code",
   "execution_count": 85,
   "id": "158a7b7f-4bc9-4082-b2fc-9003f1415239",
   "metadata": {},
   "outputs": [],
   "source": [
    "data1=data.copy()"
   ]
  },
  {
   "cell_type": "code",
   "execution_count": 86,
   "id": "8d94ebe1-9eb8-421b-8259-d3396054d900",
   "metadata": {},
   "outputs": [
    {
     "data": {
      "text/html": [
       "<div>\n",
       "<style scoped>\n",
       "    .dataframe tbody tr th:only-of-type {\n",
       "        vertical-align: middle;\n",
       "    }\n",
       "\n",
       "    .dataframe tbody tr th {\n",
       "        vertical-align: top;\n",
       "    }\n",
       "\n",
       "    .dataframe thead th {\n",
       "        text-align: right;\n",
       "    }\n",
       "</style>\n",
       "<table border=\"1\" class=\"dataframe\">\n",
       "  <thead>\n",
       "    <tr style=\"text-align: right;\">\n",
       "      <th></th>\n",
       "      <th>Gender</th>\n",
       "      <th>Qualification</th>\n",
       "      <th>Passout</th>\n",
       "      <th>Origin</th>\n",
       "      <th>Experience</th>\n",
       "      <th>Company_type</th>\n",
       "      <th>Status</th>\n",
       "    </tr>\n",
       "  </thead>\n",
       "  <tbody>\n",
       "    <tr>\n",
       "      <th>0</th>\n",
       "      <td>Male</td>\n",
       "      <td>Bachelor Degree</td>\n",
       "      <td>2007</td>\n",
       "      <td>Urban</td>\n",
       "      <td>9</td>\n",
       "      <td>Private limited company</td>\n",
       "      <td>Employed</td>\n",
       "    </tr>\n",
       "    <tr>\n",
       "      <th>1</th>\n",
       "      <td>Male</td>\n",
       "      <td>Diploma</td>\n",
       "      <td>2010</td>\n",
       "      <td>Urban</td>\n",
       "      <td>9</td>\n",
       "      <td>Private limited company</td>\n",
       "      <td>Employed</td>\n",
       "    </tr>\n",
       "    <tr>\n",
       "      <th>2</th>\n",
       "      <td>Male</td>\n",
       "      <td>Diploma</td>\n",
       "      <td>2014</td>\n",
       "      <td>Urban</td>\n",
       "      <td>5</td>\n",
       "      <td>Private limited company</td>\n",
       "      <td>Employed</td>\n",
       "    </tr>\n",
       "    <tr>\n",
       "      <th>3</th>\n",
       "      <td>Male</td>\n",
       "      <td>PUC</td>\n",
       "      <td>2014</td>\n",
       "      <td>Remote</td>\n",
       "      <td>1</td>\n",
       "      <td>Private limited company</td>\n",
       "      <td>Employed</td>\n",
       "    </tr>\n",
       "    <tr>\n",
       "      <th>4</th>\n",
       "      <td>Male</td>\n",
       "      <td>Bachelor Degree</td>\n",
       "      <td>2017</td>\n",
       "      <td>Urban</td>\n",
       "      <td>3</td>\n",
       "      <td>Private limited company</td>\n",
       "      <td>Employed</td>\n",
       "    </tr>\n",
       "    <tr>\n",
       "      <th>...</th>\n",
       "      <td>...</td>\n",
       "      <td>...</td>\n",
       "      <td>...</td>\n",
       "      <td>...</td>\n",
       "      <td>...</td>\n",
       "      <td>...</td>\n",
       "      <td>...</td>\n",
       "    </tr>\n",
       "    <tr>\n",
       "      <th>496</th>\n",
       "      <td>Female</td>\n",
       "      <td>PG</td>\n",
       "      <td>2020</td>\n",
       "      <td>Rural</td>\n",
       "      <td>1</td>\n",
       "      <td>Not yet working</td>\n",
       "      <td>Unemployed</td>\n",
       "    </tr>\n",
       "    <tr>\n",
       "      <th>497</th>\n",
       "      <td>Female</td>\n",
       "      <td>PG</td>\n",
       "      <td>2020</td>\n",
       "      <td>Semi urban</td>\n",
       "      <td>1</td>\n",
       "      <td>Not yet working</td>\n",
       "      <td>Unemployed</td>\n",
       "    </tr>\n",
       "    <tr>\n",
       "      <th>498</th>\n",
       "      <td>Female</td>\n",
       "      <td>Diploma</td>\n",
       "      <td>2021</td>\n",
       "      <td>Semi urban</td>\n",
       "      <td>1</td>\n",
       "      <td>Not yet working</td>\n",
       "      <td>Unemployed</td>\n",
       "    </tr>\n",
       "    <tr>\n",
       "      <th>499</th>\n",
       "      <td>Female</td>\n",
       "      <td>Diploma</td>\n",
       "      <td>2021</td>\n",
       "      <td>Semi urban</td>\n",
       "      <td>1</td>\n",
       "      <td>Private limited company</td>\n",
       "      <td>Unemployed</td>\n",
       "    </tr>\n",
       "    <tr>\n",
       "      <th>500</th>\n",
       "      <td>Female</td>\n",
       "      <td>Phd</td>\n",
       "      <td>2021</td>\n",
       "      <td>Semi urban</td>\n",
       "      <td>1</td>\n",
       "      <td>International company</td>\n",
       "      <td>Unemployed</td>\n",
       "    </tr>\n",
       "  </tbody>\n",
       "</table>\n",
       "<p>501 rows × 7 columns</p>\n",
       "</div>"
      ],
      "text/plain": [
       "     Gender    Qualification  Passout      Origin  Experience  \\\n",
       "0      Male  Bachelor Degree     2007       Urban           9   \n",
       "1      Male          Diploma     2010       Urban           9   \n",
       "2      Male          Diploma     2014       Urban           5   \n",
       "3      Male              PUC     2014      Remote           1   \n",
       "4      Male  Bachelor Degree     2017       Urban           3   \n",
       "..      ...              ...      ...         ...         ...   \n",
       "496  Female               PG     2020       Rural           1   \n",
       "497  Female               PG     2020  Semi urban           1   \n",
       "498  Female          Diploma     2021  Semi urban           1   \n",
       "499  Female          Diploma     2021  Semi urban           1   \n",
       "500  Female              Phd     2021  Semi urban           1   \n",
       "\n",
       "                Company_type      Status  \n",
       "0    Private limited company    Employed  \n",
       "1    Private limited company    Employed  \n",
       "2    Private limited company    Employed  \n",
       "3    Private limited company    Employed  \n",
       "4    Private limited company    Employed  \n",
       "..                       ...         ...  \n",
       "496          Not yet working  Unemployed  \n",
       "497          Not yet working  Unemployed  \n",
       "498          Not yet working  Unemployed  \n",
       "499  Private limited company  Unemployed  \n",
       "500    International company  Unemployed  \n",
       "\n",
       "[501 rows x 7 columns]"
      ]
     },
     "execution_count": 86,
     "metadata": {},
     "output_type": "execute_result"
    }
   ],
   "source": [
    "data1"
   ]
  },
  {
   "cell_type": "code",
   "execution_count": 87,
   "id": "1ab19b17-55eb-412d-8224-3accfaedb502",
   "metadata": {},
   "outputs": [],
   "source": [
    "x=data1.drop('Status',axis=1)"
   ]
  },
  {
   "cell_type": "code",
   "execution_count": 88,
   "id": "e5bdedfb-d8ca-457a-8722-b27f43bb95e6",
   "metadata": {},
   "outputs": [
    {
     "data": {
      "text/html": [
       "<div>\n",
       "<style scoped>\n",
       "    .dataframe tbody tr th:only-of-type {\n",
       "        vertical-align: middle;\n",
       "    }\n",
       "\n",
       "    .dataframe tbody tr th {\n",
       "        vertical-align: top;\n",
       "    }\n",
       "\n",
       "    .dataframe thead th {\n",
       "        text-align: right;\n",
       "    }\n",
       "</style>\n",
       "<table border=\"1\" class=\"dataframe\">\n",
       "  <thead>\n",
       "    <tr style=\"text-align: right;\">\n",
       "      <th></th>\n",
       "      <th>Gender</th>\n",
       "      <th>Qualification</th>\n",
       "      <th>Passout</th>\n",
       "      <th>Origin</th>\n",
       "      <th>Experience</th>\n",
       "      <th>Company_type</th>\n",
       "    </tr>\n",
       "  </thead>\n",
       "  <tbody>\n",
       "    <tr>\n",
       "      <th>0</th>\n",
       "      <td>Male</td>\n",
       "      <td>Bachelor Degree</td>\n",
       "      <td>2007</td>\n",
       "      <td>Urban</td>\n",
       "      <td>9</td>\n",
       "      <td>Private limited company</td>\n",
       "    </tr>\n",
       "    <tr>\n",
       "      <th>1</th>\n",
       "      <td>Male</td>\n",
       "      <td>Diploma</td>\n",
       "      <td>2010</td>\n",
       "      <td>Urban</td>\n",
       "      <td>9</td>\n",
       "      <td>Private limited company</td>\n",
       "    </tr>\n",
       "    <tr>\n",
       "      <th>2</th>\n",
       "      <td>Male</td>\n",
       "      <td>Diploma</td>\n",
       "      <td>2014</td>\n",
       "      <td>Urban</td>\n",
       "      <td>5</td>\n",
       "      <td>Private limited company</td>\n",
       "    </tr>\n",
       "    <tr>\n",
       "      <th>3</th>\n",
       "      <td>Male</td>\n",
       "      <td>PUC</td>\n",
       "      <td>2014</td>\n",
       "      <td>Remote</td>\n",
       "      <td>1</td>\n",
       "      <td>Private limited company</td>\n",
       "    </tr>\n",
       "    <tr>\n",
       "      <th>4</th>\n",
       "      <td>Male</td>\n",
       "      <td>Bachelor Degree</td>\n",
       "      <td>2017</td>\n",
       "      <td>Urban</td>\n",
       "      <td>3</td>\n",
       "      <td>Private limited company</td>\n",
       "    </tr>\n",
       "    <tr>\n",
       "      <th>...</th>\n",
       "      <td>...</td>\n",
       "      <td>...</td>\n",
       "      <td>...</td>\n",
       "      <td>...</td>\n",
       "      <td>...</td>\n",
       "      <td>...</td>\n",
       "    </tr>\n",
       "    <tr>\n",
       "      <th>496</th>\n",
       "      <td>Female</td>\n",
       "      <td>PG</td>\n",
       "      <td>2020</td>\n",
       "      <td>Rural</td>\n",
       "      <td>1</td>\n",
       "      <td>Not yet working</td>\n",
       "    </tr>\n",
       "    <tr>\n",
       "      <th>497</th>\n",
       "      <td>Female</td>\n",
       "      <td>PG</td>\n",
       "      <td>2020</td>\n",
       "      <td>Semi urban</td>\n",
       "      <td>1</td>\n",
       "      <td>Not yet working</td>\n",
       "    </tr>\n",
       "    <tr>\n",
       "      <th>498</th>\n",
       "      <td>Female</td>\n",
       "      <td>Diploma</td>\n",
       "      <td>2021</td>\n",
       "      <td>Semi urban</td>\n",
       "      <td>1</td>\n",
       "      <td>Not yet working</td>\n",
       "    </tr>\n",
       "    <tr>\n",
       "      <th>499</th>\n",
       "      <td>Female</td>\n",
       "      <td>Diploma</td>\n",
       "      <td>2021</td>\n",
       "      <td>Semi urban</td>\n",
       "      <td>1</td>\n",
       "      <td>Private limited company</td>\n",
       "    </tr>\n",
       "    <tr>\n",
       "      <th>500</th>\n",
       "      <td>Female</td>\n",
       "      <td>Phd</td>\n",
       "      <td>2021</td>\n",
       "      <td>Semi urban</td>\n",
       "      <td>1</td>\n",
       "      <td>International company</td>\n",
       "    </tr>\n",
       "  </tbody>\n",
       "</table>\n",
       "<p>501 rows × 6 columns</p>\n",
       "</div>"
      ],
      "text/plain": [
       "     Gender    Qualification  Passout      Origin  Experience  \\\n",
       "0      Male  Bachelor Degree     2007       Urban           9   \n",
       "1      Male          Diploma     2010       Urban           9   \n",
       "2      Male          Diploma     2014       Urban           5   \n",
       "3      Male              PUC     2014      Remote           1   \n",
       "4      Male  Bachelor Degree     2017       Urban           3   \n",
       "..      ...              ...      ...         ...         ...   \n",
       "496  Female               PG     2020       Rural           1   \n",
       "497  Female               PG     2020  Semi urban           1   \n",
       "498  Female          Diploma     2021  Semi urban           1   \n",
       "499  Female          Diploma     2021  Semi urban           1   \n",
       "500  Female              Phd     2021  Semi urban           1   \n",
       "\n",
       "                Company_type  \n",
       "0    Private limited company  \n",
       "1    Private limited company  \n",
       "2    Private limited company  \n",
       "3    Private limited company  \n",
       "4    Private limited company  \n",
       "..                       ...  \n",
       "496          Not yet working  \n",
       "497          Not yet working  \n",
       "498          Not yet working  \n",
       "499  Private limited company  \n",
       "500    International company  \n",
       "\n",
       "[501 rows x 6 columns]"
      ]
     },
     "execution_count": 88,
     "metadata": {},
     "output_type": "execute_result"
    }
   ],
   "source": [
    "x"
   ]
  },
  {
   "cell_type": "code",
   "execution_count": 89,
   "id": "089074e2-d7d6-4475-ba74-f71afb7560e8",
   "metadata": {},
   "outputs": [],
   "source": [
    "y=data1['Status']"
   ]
  },
  {
   "cell_type": "code",
   "execution_count": 90,
   "id": "3a1329c0-bc0b-4b11-85ae-dcc4e83787a2",
   "metadata": {},
   "outputs": [
    {
     "data": {
      "text/plain": [
       "0        Employed\n",
       "1        Employed\n",
       "2        Employed\n",
       "3        Employed\n",
       "4        Employed\n",
       "          ...    \n",
       "496    Unemployed\n",
       "497    Unemployed\n",
       "498    Unemployed\n",
       "499    Unemployed\n",
       "500    Unemployed\n",
       "Name: Status, Length: 501, dtype: object"
      ]
     },
     "execution_count": 90,
     "metadata": {},
     "output_type": "execute_result"
    }
   ],
   "source": [
    "y"
   ]
  },
  {
   "cell_type": "code",
   "execution_count": 91,
   "id": "b5924513-87ff-4fb2-9fef-b05b0bc29fdb",
   "metadata": {},
   "outputs": [
    {
     "data": {
      "text/plain": [
       "Gender           0\n",
       "Qualification    0\n",
       "Passout          0\n",
       "Origin           0\n",
       "Experience       0\n",
       "Company_type     0\n",
       "dtype: int64"
      ]
     },
     "execution_count": 91,
     "metadata": {},
     "output_type": "execute_result"
    }
   ],
   "source": [
    "x.isnull().sum()"
   ]
  },
  {
   "cell_type": "code",
   "execution_count": 92,
   "id": "82e1e5d5-dd40-4a2c-a458-76f71591b167",
   "metadata": {},
   "outputs": [
    {
     "data": {
      "text/plain": [
       "0"
      ]
     },
     "execution_count": 92,
     "metadata": {},
     "output_type": "execute_result"
    }
   ],
   "source": [
    "y.isnull().sum()"
   ]
  },
  {
   "cell_type": "code",
   "execution_count": 93,
   "id": "d1fdb2bf-285c-4170-a68b-04276ce60c3b",
   "metadata": {},
   "outputs": [
    {
     "data": {
      "text/plain": [
       "array(['Private limited company', 'Corporative', 'Partnership',\n",
       "       'International company', 'Not yet working',\n",
       "       'Nonprofit Organization', 'Private institution'], dtype=object)"
      ]
     },
     "execution_count": 93,
     "metadata": {},
     "output_type": "execute_result"
    }
   ],
   "source": [
    "x['Company_type'].unique()"
   ]
  },
  {
   "cell_type": "code",
   "execution_count": 94,
   "id": "e916df4c-fc4a-4649-93be-245dd5b9dfb1",
   "metadata": {},
   "outputs": [
    {
     "data": {
      "text/plain": [
       "array(['Male', 'Female'], dtype=object)"
      ]
     },
     "execution_count": 94,
     "metadata": {},
     "output_type": "execute_result"
    }
   ],
   "source": [
    "x['Gender'].unique()"
   ]
  },
  {
   "cell_type": "code",
   "execution_count": 95,
   "id": "0267b740-2423-46ef-9888-6646dddd0c4a",
   "metadata": {},
   "outputs": [],
   "source": [
    "from sklearn.preprocessing import LabelEncoder\n",
    "le = LabelEncoder()\n"
   ]
  },
  {
   "cell_type": "code",
   "execution_count": 96,
   "id": "3703066d-4f68-4fbd-b3f5-f352e1ab271c",
   "metadata": {},
   "outputs": [],
   "source": [
    "x['Gender'] = le.fit_transform(x['Gender'])"
   ]
  },
  {
   "cell_type": "code",
   "execution_count": 97,
   "id": "7fc8443c-0880-4bed-a84d-26d8f1364b24",
   "metadata": {},
   "outputs": [],
   "source": [
    "x['Qualification']=le.fit_transform(x['Qualification'])\n",
    "x['Origin']=le.fit_transform(x['Origin'])      \n",
    "x['Company_type']=le.fit_transform(x['Company_type'])"
   ]
  },
  {
   "cell_type": "code",
   "execution_count": 98,
   "id": "80de1921-63b2-473e-9a13-43b0a4abd013",
   "metadata": {},
   "outputs": [
    {
     "data": {
      "text/plain": [
       "array([6, 0, 4, 1, 3, 2, 5])"
      ]
     },
     "execution_count": 98,
     "metadata": {},
     "output_type": "execute_result"
    }
   ],
   "source": [
    "x['Company_type'].unique()"
   ]
  },
  {
   "cell_type": "code",
   "execution_count": 99,
   "id": "b8eca60e-8a3d-424c-965c-426e0ee3d4fc",
   "metadata": {},
   "outputs": [
    {
     "data": {
      "text/plain": [
       "array(['Employed', 'Unemployed'], dtype=object)"
      ]
     },
     "execution_count": 99,
     "metadata": {},
     "output_type": "execute_result"
    }
   ],
   "source": [
    "y.unique()"
   ]
  },
  {
   "cell_type": "code",
   "execution_count": 100,
   "id": "12f75825-4dff-4e1c-83ac-18a3b85c2959",
   "metadata": {},
   "outputs": [],
   "source": [
    "y=y.map({'Employed':1,'Unemployed':0})"
   ]
  },
  {
   "cell_type": "code",
   "execution_count": 101,
   "id": "c334a9cf-70ce-4616-a193-4b681f9304dc",
   "metadata": {},
   "outputs": [
    {
     "data": {
      "text/plain": [
       "0      1\n",
       "1      1\n",
       "2      1\n",
       "3      1\n",
       "4      1\n",
       "      ..\n",
       "496    0\n",
       "497    0\n",
       "498    0\n",
       "499    0\n",
       "500    0\n",
       "Name: Status, Length: 501, dtype: int64"
      ]
     },
     "execution_count": 101,
     "metadata": {},
     "output_type": "execute_result"
    }
   ],
   "source": [
    "y"
   ]
  },
  {
   "cell_type": "code",
   "execution_count": 102,
   "id": "042e7087-ac93-4646-9133-30bf5871744f",
   "metadata": {},
   "outputs": [],
   "source": [
    "from sklearn.model_selection import train_test_split\n",
    "x_train,x_test,y_train,y_test=train_test_split(x,y,test_size=0.2,random_state=42)"
   ]
  },
  {
   "cell_type": "code",
   "execution_count": 103,
   "id": "9d510d8d-e64d-44a5-917c-fcfd95e928a4",
   "metadata": {},
   "outputs": [
    {
     "data": {
      "text/html": [
       "<style>#sk-container-id-3 {color: black;}#sk-container-id-3 pre{padding: 0;}#sk-container-id-3 div.sk-toggleable {background-color: white;}#sk-container-id-3 label.sk-toggleable__label {cursor: pointer;display: block;width: 100%;margin-bottom: 0;padding: 0.3em;box-sizing: border-box;text-align: center;}#sk-container-id-3 label.sk-toggleable__label-arrow:before {content: \"▸\";float: left;margin-right: 0.25em;color: #696969;}#sk-container-id-3 label.sk-toggleable__label-arrow:hover:before {color: black;}#sk-container-id-3 div.sk-estimator:hover label.sk-toggleable__label-arrow:before {color: black;}#sk-container-id-3 div.sk-toggleable__content {max-height: 0;max-width: 0;overflow: hidden;text-align: left;background-color: #f0f8ff;}#sk-container-id-3 div.sk-toggleable__content pre {margin: 0.2em;color: black;border-radius: 0.25em;background-color: #f0f8ff;}#sk-container-id-3 input.sk-toggleable__control:checked~div.sk-toggleable__content {max-height: 200px;max-width: 100%;overflow: auto;}#sk-container-id-3 input.sk-toggleable__control:checked~label.sk-toggleable__label-arrow:before {content: \"▾\";}#sk-container-id-3 div.sk-estimator input.sk-toggleable__control:checked~label.sk-toggleable__label {background-color: #d4ebff;}#sk-container-id-3 div.sk-label input.sk-toggleable__control:checked~label.sk-toggleable__label {background-color: #d4ebff;}#sk-container-id-3 input.sk-hidden--visually {border: 0;clip: rect(1px 1px 1px 1px);clip: rect(1px, 1px, 1px, 1px);height: 1px;margin: -1px;overflow: hidden;padding: 0;position: absolute;width: 1px;}#sk-container-id-3 div.sk-estimator {font-family: monospace;background-color: #f0f8ff;border: 1px dotted black;border-radius: 0.25em;box-sizing: border-box;margin-bottom: 0.5em;}#sk-container-id-3 div.sk-estimator:hover {background-color: #d4ebff;}#sk-container-id-3 div.sk-parallel-item::after {content: \"\";width: 100%;border-bottom: 1px solid gray;flex-grow: 1;}#sk-container-id-3 div.sk-label:hover label.sk-toggleable__label {background-color: #d4ebff;}#sk-container-id-3 div.sk-serial::before {content: \"\";position: absolute;border-left: 1px solid gray;box-sizing: border-box;top: 0;bottom: 0;left: 50%;z-index: 0;}#sk-container-id-3 div.sk-serial {display: flex;flex-direction: column;align-items: center;background-color: white;padding-right: 0.2em;padding-left: 0.2em;position: relative;}#sk-container-id-3 div.sk-item {position: relative;z-index: 1;}#sk-container-id-3 div.sk-parallel {display: flex;align-items: stretch;justify-content: center;background-color: white;position: relative;}#sk-container-id-3 div.sk-item::before, #sk-container-id-3 div.sk-parallel-item::before {content: \"\";position: absolute;border-left: 1px solid gray;box-sizing: border-box;top: 0;bottom: 0;left: 50%;z-index: -1;}#sk-container-id-3 div.sk-parallel-item {display: flex;flex-direction: column;z-index: 1;position: relative;background-color: white;}#sk-container-id-3 div.sk-parallel-item:first-child::after {align-self: flex-end;width: 50%;}#sk-container-id-3 div.sk-parallel-item:last-child::after {align-self: flex-start;width: 50%;}#sk-container-id-3 div.sk-parallel-item:only-child::after {width: 0;}#sk-container-id-3 div.sk-dashed-wrapped {border: 1px dashed gray;margin: 0 0.4em 0.5em 0.4em;box-sizing: border-box;padding-bottom: 0.4em;background-color: white;}#sk-container-id-3 div.sk-label label {font-family: monospace;font-weight: bold;display: inline-block;line-height: 1.2em;}#sk-container-id-3 div.sk-label-container {text-align: center;}#sk-container-id-3 div.sk-container {/* jupyter's `normalize.less` sets `[hidden] { display: none; }` but bootstrap.min.css set `[hidden] { display: none !important; }` so we also need the `!important` here to be able to override the default hidden behavior on the sphinx rendered scikit-learn.org. See: https://github.com/scikit-learn/scikit-learn/issues/21755 */display: inline-block !important;position: relative;}#sk-container-id-3 div.sk-text-repr-fallback {display: none;}</style><div id=\"sk-container-id-3\" class=\"sk-top-container\"><div class=\"sk-text-repr-fallback\"><pre>LogisticRegression()</pre><b>In a Jupyter environment, please rerun this cell to show the HTML representation or trust the notebook. <br />On GitHub, the HTML representation is unable to render, please try loading this page with nbviewer.org.</b></div><div class=\"sk-container\" hidden><div class=\"sk-item\"><div class=\"sk-estimator sk-toggleable\"><input class=\"sk-toggleable__control sk-hidden--visually\" id=\"sk-estimator-id-3\" type=\"checkbox\" checked><label for=\"sk-estimator-id-3\" class=\"sk-toggleable__label sk-toggleable__label-arrow\">LogisticRegression</label><div class=\"sk-toggleable__content\"><pre>LogisticRegression()</pre></div></div></div></div></div>"
      ],
      "text/plain": [
       "LogisticRegression()"
      ]
     },
     "execution_count": 103,
     "metadata": {},
     "output_type": "execute_result"
    }
   ],
   "source": [
    "from sklearn.linear_model import LogisticRegression\n",
    "l_regressor = LogisticRegression()\n",
    "l_regressor.fit(x_train, y_train)"
   ]
  },
  {
   "cell_type": "code",
   "execution_count": 104,
   "id": "2870a8a0-6c18-427a-9bd3-86d2198259af",
   "metadata": {},
   "outputs": [],
   "source": [
    "y_pred = l_regressor.predict(x_test)"
   ]
  },
  {
   "cell_type": "code",
   "execution_count": 105,
   "id": "64d4f0e2-a47a-41a5-8e43-e3f2068d8619",
   "metadata": {},
   "outputs": [
    {
     "data": {
      "text/plain": [
       "array([0, 1, 0, 0, 0, 0, 0, 0, 0, 0, 1, 0, 0, 0, 0, 0, 0, 0, 0, 0, 0, 0,\n",
       "       1, 0, 0, 0, 0, 0, 0, 0, 0, 0, 0, 0, 1, 0, 0, 0, 0, 0, 0, 0, 0, 0,\n",
       "       0, 0, 1, 0, 0, 0, 0, 0, 0, 0, 0, 0, 0, 1, 0, 0, 0, 0, 0, 0, 0, 0,\n",
       "       0, 0, 1, 0, 0, 0, 1, 1, 0, 1, 0, 0, 0, 0, 0, 0, 0, 0, 0, 0, 0, 0,\n",
       "       0, 0, 0, 0, 0, 0, 0, 0, 0, 0, 0, 1, 1], dtype=int64)"
      ]
     },
     "execution_count": 105,
     "metadata": {},
     "output_type": "execute_result"
    }
   ],
   "source": [
    "y_pred"
   ]
  },
  {
   "cell_type": "code",
   "execution_count": 106,
   "id": "50dc1b35-c7dc-4d1a-8be0-d20a2eb60ff1",
   "metadata": {},
   "outputs": [
    {
     "data": {
      "text/plain": [
       "0      1\n",
       "1      1\n",
       "2      1\n",
       "3      1\n",
       "4      1\n",
       "      ..\n",
       "496    0\n",
       "497    0\n",
       "498    0\n",
       "499    0\n",
       "500    0\n",
       "Name: Status, Length: 501, dtype: int64"
      ]
     },
     "execution_count": 106,
     "metadata": {},
     "output_type": "execute_result"
    }
   ],
   "source": [
    "y"
   ]
  },
  {
   "cell_type": "code",
   "execution_count": 107,
   "id": "8bdbd21f-7fb5-4d1c-b157-24aab66a7832",
   "metadata": {},
   "outputs": [
    {
     "name": "stdout",
     "output_type": "stream",
     "text": [
      "0.8316831683168316\n"
     ]
    }
   ],
   "source": [
    "from sklearn.metrics import accuracy_score\n",
    "print(accuracy_score(y_test, y_pred))"
   ]
  },
  {
   "cell_type": "code",
   "execution_count": 108,
   "id": "c7d70057-4fc7-4efa-b39a-2aa3d8acb656",
   "metadata": {},
   "outputs": [
    {
     "data": {
      "text/html": [
       "<div>\n",
       "<style scoped>\n",
       "    .dataframe tbody tr th:only-of-type {\n",
       "        vertical-align: middle;\n",
       "    }\n",
       "\n",
       "    .dataframe tbody tr th {\n",
       "        vertical-align: top;\n",
       "    }\n",
       "\n",
       "    .dataframe thead th {\n",
       "        text-align: right;\n",
       "    }\n",
       "</style>\n",
       "<table border=\"1\" class=\"dataframe\">\n",
       "  <thead>\n",
       "    <tr style=\"text-align: right;\">\n",
       "      <th></th>\n",
       "      <th>Gender</th>\n",
       "      <th>Qualification</th>\n",
       "      <th>Passout</th>\n",
       "      <th>Origin</th>\n",
       "      <th>Experience</th>\n",
       "      <th>Company_type</th>\n",
       "    </tr>\n",
       "  </thead>\n",
       "  <tbody>\n",
       "    <tr>\n",
       "      <th>0</th>\n",
       "      <td>1</td>\n",
       "      <td>1</td>\n",
       "      <td>2007</td>\n",
       "      <td>3</td>\n",
       "      <td>9</td>\n",
       "      <td>6</td>\n",
       "    </tr>\n",
       "    <tr>\n",
       "      <th>1</th>\n",
       "      <td>1</td>\n",
       "      <td>2</td>\n",
       "      <td>2010</td>\n",
       "      <td>3</td>\n",
       "      <td>9</td>\n",
       "      <td>6</td>\n",
       "    </tr>\n",
       "    <tr>\n",
       "      <th>2</th>\n",
       "      <td>1</td>\n",
       "      <td>2</td>\n",
       "      <td>2014</td>\n",
       "      <td>3</td>\n",
       "      <td>5</td>\n",
       "      <td>6</td>\n",
       "    </tr>\n",
       "    <tr>\n",
       "      <th>3</th>\n",
       "      <td>1</td>\n",
       "      <td>4</td>\n",
       "      <td>2014</td>\n",
       "      <td>0</td>\n",
       "      <td>1</td>\n",
       "      <td>6</td>\n",
       "    </tr>\n",
       "    <tr>\n",
       "      <th>4</th>\n",
       "      <td>1</td>\n",
       "      <td>1</td>\n",
       "      <td>2017</td>\n",
       "      <td>3</td>\n",
       "      <td>3</td>\n",
       "      <td>6</td>\n",
       "    </tr>\n",
       "    <tr>\n",
       "      <th>...</th>\n",
       "      <td>...</td>\n",
       "      <td>...</td>\n",
       "      <td>...</td>\n",
       "      <td>...</td>\n",
       "      <td>...</td>\n",
       "      <td>...</td>\n",
       "    </tr>\n",
       "    <tr>\n",
       "      <th>496</th>\n",
       "      <td>0</td>\n",
       "      <td>3</td>\n",
       "      <td>2020</td>\n",
       "      <td>1</td>\n",
       "      <td>1</td>\n",
       "      <td>3</td>\n",
       "    </tr>\n",
       "    <tr>\n",
       "      <th>497</th>\n",
       "      <td>0</td>\n",
       "      <td>3</td>\n",
       "      <td>2020</td>\n",
       "      <td>2</td>\n",
       "      <td>1</td>\n",
       "      <td>3</td>\n",
       "    </tr>\n",
       "    <tr>\n",
       "      <th>498</th>\n",
       "      <td>0</td>\n",
       "      <td>2</td>\n",
       "      <td>2021</td>\n",
       "      <td>2</td>\n",
       "      <td>1</td>\n",
       "      <td>3</td>\n",
       "    </tr>\n",
       "    <tr>\n",
       "      <th>499</th>\n",
       "      <td>0</td>\n",
       "      <td>2</td>\n",
       "      <td>2021</td>\n",
       "      <td>2</td>\n",
       "      <td>1</td>\n",
       "      <td>6</td>\n",
       "    </tr>\n",
       "    <tr>\n",
       "      <th>500</th>\n",
       "      <td>0</td>\n",
       "      <td>5</td>\n",
       "      <td>2021</td>\n",
       "      <td>2</td>\n",
       "      <td>1</td>\n",
       "      <td>1</td>\n",
       "    </tr>\n",
       "  </tbody>\n",
       "</table>\n",
       "<p>501 rows × 6 columns</p>\n",
       "</div>"
      ],
      "text/plain": [
       "     Gender  Qualification  Passout  Origin  Experience  Company_type\n",
       "0         1              1     2007       3           9             6\n",
       "1         1              2     2010       3           9             6\n",
       "2         1              2     2014       3           5             6\n",
       "3         1              4     2014       0           1             6\n",
       "4         1              1     2017       3           3             6\n",
       "..      ...            ...      ...     ...         ...           ...\n",
       "496       0              3     2020       1           1             3\n",
       "497       0              3     2020       2           1             3\n",
       "498       0              2     2021       2           1             3\n",
       "499       0              2     2021       2           1             6\n",
       "500       0              5     2021       2           1             1\n",
       "\n",
       "[501 rows x 6 columns]"
      ]
     },
     "execution_count": 108,
     "metadata": {},
     "output_type": "execute_result"
    }
   ],
   "source": [
    "x"
   ]
  },
  {
   "cell_type": "code",
   "execution_count": 120,
   "id": "3bcd8fb4-2a12-4e9e-8ca3-bfe5c6747fde",
   "metadata": {},
   "outputs": [],
   "source": [
    "new_data=pd.DataFrame({\n",
    "    'Gender':0,\n",
    "    'Qualification':1,\n",
    "    'Passout':2007,\n",
    "    'Origin':3,\n",
    "    'Experience':9,\n",
    "    'Company_type':1,\n",
    "},index=[0])"
   ]
  },
  {
   "cell_type": "code",
   "execution_count": 121,
   "id": "c1eb1086-a95d-47e2-8f79-ae09f23d2a42",
   "metadata": {},
   "outputs": [
    {
     "data": {
      "text/html": [
       "<style>#sk-container-id-8 {color: black;}#sk-container-id-8 pre{padding: 0;}#sk-container-id-8 div.sk-toggleable {background-color: white;}#sk-container-id-8 label.sk-toggleable__label {cursor: pointer;display: block;width: 100%;margin-bottom: 0;padding: 0.3em;box-sizing: border-box;text-align: center;}#sk-container-id-8 label.sk-toggleable__label-arrow:before {content: \"▸\";float: left;margin-right: 0.25em;color: #696969;}#sk-container-id-8 label.sk-toggleable__label-arrow:hover:before {color: black;}#sk-container-id-8 div.sk-estimator:hover label.sk-toggleable__label-arrow:before {color: black;}#sk-container-id-8 div.sk-toggleable__content {max-height: 0;max-width: 0;overflow: hidden;text-align: left;background-color: #f0f8ff;}#sk-container-id-8 div.sk-toggleable__content pre {margin: 0.2em;color: black;border-radius: 0.25em;background-color: #f0f8ff;}#sk-container-id-8 input.sk-toggleable__control:checked~div.sk-toggleable__content {max-height: 200px;max-width: 100%;overflow: auto;}#sk-container-id-8 input.sk-toggleable__control:checked~label.sk-toggleable__label-arrow:before {content: \"▾\";}#sk-container-id-8 div.sk-estimator input.sk-toggleable__control:checked~label.sk-toggleable__label {background-color: #d4ebff;}#sk-container-id-8 div.sk-label input.sk-toggleable__control:checked~label.sk-toggleable__label {background-color: #d4ebff;}#sk-container-id-8 input.sk-hidden--visually {border: 0;clip: rect(1px 1px 1px 1px);clip: rect(1px, 1px, 1px, 1px);height: 1px;margin: -1px;overflow: hidden;padding: 0;position: absolute;width: 1px;}#sk-container-id-8 div.sk-estimator {font-family: monospace;background-color: #f0f8ff;border: 1px dotted black;border-radius: 0.25em;box-sizing: border-box;margin-bottom: 0.5em;}#sk-container-id-8 div.sk-estimator:hover {background-color: #d4ebff;}#sk-container-id-8 div.sk-parallel-item::after {content: \"\";width: 100%;border-bottom: 1px solid gray;flex-grow: 1;}#sk-container-id-8 div.sk-label:hover label.sk-toggleable__label {background-color: #d4ebff;}#sk-container-id-8 div.sk-serial::before {content: \"\";position: absolute;border-left: 1px solid gray;box-sizing: border-box;top: 0;bottom: 0;left: 50%;z-index: 0;}#sk-container-id-8 div.sk-serial {display: flex;flex-direction: column;align-items: center;background-color: white;padding-right: 0.2em;padding-left: 0.2em;position: relative;}#sk-container-id-8 div.sk-item {position: relative;z-index: 1;}#sk-container-id-8 div.sk-parallel {display: flex;align-items: stretch;justify-content: center;background-color: white;position: relative;}#sk-container-id-8 div.sk-item::before, #sk-container-id-8 div.sk-parallel-item::before {content: \"\";position: absolute;border-left: 1px solid gray;box-sizing: border-box;top: 0;bottom: 0;left: 50%;z-index: -1;}#sk-container-id-8 div.sk-parallel-item {display: flex;flex-direction: column;z-index: 1;position: relative;background-color: white;}#sk-container-id-8 div.sk-parallel-item:first-child::after {align-self: flex-end;width: 50%;}#sk-container-id-8 div.sk-parallel-item:last-child::after {align-self: flex-start;width: 50%;}#sk-container-id-8 div.sk-parallel-item:only-child::after {width: 0;}#sk-container-id-8 div.sk-dashed-wrapped {border: 1px dashed gray;margin: 0 0.4em 0.5em 0.4em;box-sizing: border-box;padding-bottom: 0.4em;background-color: white;}#sk-container-id-8 div.sk-label label {font-family: monospace;font-weight: bold;display: inline-block;line-height: 1.2em;}#sk-container-id-8 div.sk-label-container {text-align: center;}#sk-container-id-8 div.sk-container {/* jupyter's `normalize.less` sets `[hidden] { display: none; }` but bootstrap.min.css set `[hidden] { display: none !important; }` so we also need the `!important` here to be able to override the default hidden behavior on the sphinx rendered scikit-learn.org. See: https://github.com/scikit-learn/scikit-learn/issues/21755 */display: inline-block !important;position: relative;}#sk-container-id-8 div.sk-text-repr-fallback {display: none;}</style><div id=\"sk-container-id-8\" class=\"sk-top-container\"><div class=\"sk-text-repr-fallback\"><pre>LogisticRegression()</pre><b>In a Jupyter environment, please rerun this cell to show the HTML representation or trust the notebook. <br />On GitHub, the HTML representation is unable to render, please try loading this page with nbviewer.org.</b></div><div class=\"sk-container\" hidden><div class=\"sk-item\"><div class=\"sk-estimator sk-toggleable\"><input class=\"sk-toggleable__control sk-hidden--visually\" id=\"sk-estimator-id-8\" type=\"checkbox\" checked><label for=\"sk-estimator-id-8\" class=\"sk-toggleable__label sk-toggleable__label-arrow\">LogisticRegression</label><div class=\"sk-toggleable__content\"><pre>LogisticRegression()</pre></div></div></div></div></div>"
      ],
      "text/plain": [
       "LogisticRegression()"
      ]
     },
     "execution_count": 121,
     "metadata": {},
     "output_type": "execute_result"
    }
   ],
   "source": [
    "lr=LogisticRegression()\n",
    "lr.fit(x,y)"
   ]
  },
  {
   "cell_type": "code",
   "execution_count": 122,
   "id": "dee61f0d-d6ff-4d3e-9e13-652b8725ca65",
   "metadata": {},
   "outputs": [
    {
     "name": "stdout",
     "output_type": "stream",
     "text": [
      "Employed\n"
     ]
    }
   ],
   "source": [
    "p=lr.predict(new_data)\n",
    "\n",
    "if p==1:\n",
    "    print('Employed')\n",
    "else :\n",
    "    print('Unemployed')"
   ]
  },
  {
   "cell_type": "code",
   "execution_count": null,
   "id": "ec882ffd-5abe-4365-8b4f-9af596cedaa3",
   "metadata": {},
   "outputs": [],
   "source": []
  }
 ],
 "metadata": {
  "kernelspec": {
   "display_name": "Python 3 (ipykernel)",
   "language": "python",
   "name": "python3"
  },
  "language_info": {
   "codemirror_mode": {
    "name": "ipython",
    "version": 3
   },
   "file_extension": ".py",
   "mimetype": "text/x-python",
   "name": "python",
   "nbconvert_exporter": "python",
   "pygments_lexer": "ipython3",
   "version": "3.12.0"
  }
 },
 "nbformat": 4,
 "nbformat_minor": 5
}
